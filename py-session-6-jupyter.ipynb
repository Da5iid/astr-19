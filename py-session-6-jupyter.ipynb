{
 "cells": [
  {
   "cell_type": "markdown",
   "id": "667951ba",
   "metadata": {},
   "source": [
    "# Prompt 6: Print the first 10 entries of sin(x) and cos(x) in columns."
   ]
  },
  {
   "cell_type": "code",
   "execution_count": 15,
   "id": "5ca1a05c",
   "metadata": {},
   "outputs": [],
   "source": [
    "import numpy as np"
   ]
  },
  {
   "cell_type": "markdown",
   "id": "c44de882",
   "metadata": {},
   "source": [
    "Two functions that return an array with a specified (argument) number of sin(x) or cos(x) enteries"
   ]
  },
  {
   "cell_type": "code",
   "execution_count": 16,
   "id": "076b4b43",
   "metadata": {},
   "outputs": [],
   "source": [
    "def sin(num):\n",
    "    sinData = []\n",
    "    x = np.linspace(0.0,2.0*np.pi,num)\n",
    "    \n",
    "    for i in range(num):\n",
    "        sinData.append(f\"{np.sin(x[i]):10.5e}\")\n",
    "    \n",
    "    return sinData"
   ]
  },
  {
   "cell_type": "code",
   "execution_count": 17,
   "id": "1b35d78b",
   "metadata": {},
   "outputs": [],
   "source": [
    "def cos(num):\n",
    "    cosData = []\n",
    "    x = np.linspace(0.0,2.0*np.pi,num)\n",
    "    \n",
    "    for i in range(num):\n",
    "        cosData.append(f\"{np.cos(x[i]):10.5e}\")\n",
    "    \n",
    "    return cosData"
   ]
  },
  {
   "cell_type": "markdown",
   "id": "5ee777e1",
   "metadata": {},
   "source": [
    "Main function: calls sin() and cos() with the \"how many\" argument, then prints out the\n",
    "sin(x) and cos(x) lables, followed by the first 10 entry (of 1000)."
   ]
  },
  {
   "cell_type": "code",
   "execution_count": 18,
   "id": "98c50e67",
   "metadata": {},
   "outputs": [],
   "source": [
    "def main():\n",
    "    num = 1000\n",
    "    s = sin(num)\n",
    "    c = cos(num)\n",
    "    \n",
    "    print(f\"sin(x)         cos(x)\")\n",
    "    \n",
    "    for i in range(10):\n",
    "        print(f\"{s[i]}    {c[i]}\")"
   ]
  },
  {
   "cell_type": "code",
   "execution_count": 19,
   "id": "e7e783f0",
   "metadata": {
    "scrolled": true
   },
   "outputs": [
    {
     "name": "stdout",
     "output_type": "stream",
     "text": [
      "sin(x)         cos(x)\n",
      "0.00000e+00    1.00000e+00\n",
      "6.28943e-03    9.99980e-01\n",
      "1.25786e-02    9.99921e-01\n",
      "1.88673e-02    9.99822e-01\n",
      "2.51552e-02    9.99684e-01\n",
      "3.14422e-02    9.99506e-01\n",
      "3.77279e-02    9.99288e-01\n",
      "4.40121e-02    9.99031e-01\n",
      "5.02946e-02    9.98734e-01\n",
      "5.65750e-02    9.98398e-01\n"
     ]
    }
   ],
   "source": [
    "if __name__=='__main__':\n",
    "    main()"
   ]
  }
 ],
 "metadata": {
  "kernelspec": {
   "display_name": "Python 3 (ipykernel)",
   "language": "python",
   "name": "python3"
  },
  "language_info": {
   "codemirror_mode": {
    "name": "ipython",
    "version": 3
   },
   "file_extension": ".py",
   "mimetype": "text/x-python",
   "name": "python",
   "nbconvert_exporter": "python",
   "pygments_lexer": "ipython3",
   "version": "3.10.4"
  }
 },
 "nbformat": 4,
 "nbformat_minor": 5
}
