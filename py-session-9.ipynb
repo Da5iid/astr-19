{
 "cells": [
  {
   "cell_type": "code",
   "execution_count": 2,
   "id": "0fd79300",
   "metadata": {},
   "outputs": [],
   "source": [
    "import matplotlib.pyplot as plt\n",
    "import numpy as np"
   ]
  },
  {
   "cell_type": "code",
   "execution_count": 39,
   "id": "97208981",
   "metadata": {
    "scrolled": true
   },
   "outputs": [
    {
     "data": {
      "image/png": "[encoded data removed]",
      "text/plain": [
       "<Figure size 432x288 with 1 Axes>"
      ]
     },
     "metadata": {
      "needs_background": "light"
     },
     "output_type": "display_data"
    }
   ],
   "source": [
    "n = 1000\n",
    "\n",
    "#use random.random (I think) to get random float values between 0.0 and 1.0\n",
    "#reminds me of JavaScript's built in \"Math.random()\"\n",
    "x = np.random.random(n)\n",
    "\n",
    "width = 0.01\n",
    "histmin = np.floor(min(x))\n",
    "histmax = np.ceil(max(x))+width\n",
    "\n",
    "bins = np.arange(histmin,histmax,width)\n",
    "plt.hist(x,bins=bins,alpha=0.5,color=\"#f1466f\",edgecolor=\"#ffffff\")\n",
    "plt.xlabel(\"x (0 -> 1)\")\n",
    "plt.ylabel(\"numbers per bin\")\n",
    "plt.show\n",
    "\n",
    "plt.savefig('pt9-dist-unif.png',bbox_inches='tight',pad_inches=0,dpi=600,)"
   ]
  },
  {
   "cell_type": "code",
   "execution_count": null,
   "id": "73ec4277",
   "metadata": {},
   "outputs": [],
   "source": []
  }
 ],
 "metadata": {
  "kernelspec": {
   "display_name": "Python 3 (ipykernel)",
   "language": "python",
   "name": "python3"
  },
  "language_info": {
   "codemirror_mode": {
    "name": "ipython",
    "version": 3
   },
   "file_extension": ".py",
   "mimetype": "text/x-python",
   "name": "python",
   "nbconvert_exporter": "python",
   "pygments_lexer": "ipython3",
   "version": "3.10.4"
  }
 },
 "nbformat": 4,
 "nbformat_minor": 5
}
